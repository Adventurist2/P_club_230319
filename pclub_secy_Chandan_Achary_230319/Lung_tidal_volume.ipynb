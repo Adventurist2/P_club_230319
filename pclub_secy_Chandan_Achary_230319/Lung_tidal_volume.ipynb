{
 "cells": [
  {
   "cell_type": "code",
   "execution_count": 1,
   "id": "abb685b2",
   "metadata": {},
   "outputs": [],
   "source": [
    "#Importing Necesary libraries\n",
    "\n",
    "import pandas as pd\n",
    "import numpy as np\n",
    "from sklearn.model_selection import train_test_split\n",
    "from sklearn.preprocessing import OneHotEncoder\n",
    "from sklearn.pipeline import Pipeline\n",
    "from sklearn.compose import ColumnTransformer\n",
    "from sklearn.preprocessing import StandardScaler\n",
    "from sklearn.ensemble import RandomForestRegressor\n",
    "from sklearn.metrics import mean_squared_error"
   ]
  },
  {
   "cell_type": "code",
   "execution_count": 2,
   "id": "a8c9f5f2",
   "metadata": {},
   "outputs": [
    {
     "name": "stdout",
     "output_type": "stream",
     "text": [
      "The predicted Lung Tidal Volume Values  [7.7871     6.9896015  7.40390565 7.68777951 4.649625  ]\n",
      "Mean Squared Error: 1.4837673993179459\n"
     ]
    }
   ],
   "source": [
    "#making the dataframe\n",
    "data = pd.read_csv(r'C:\\Users\\chand\\pclub_secy_recruitment\\lungcapacity.csv')\n",
    "df = pd.DataFrame(data)\n",
    "#Dropping axis\n",
    "X = df.drop(['LungCap(cc)'],axis=1)\n",
    "y = df['LungCap(cc)']\n",
    "x_cat = X[['Smoke', 'Gender', 'Caesarean']].copy()\n",
    "x_num = X.drop(['Smoke', 'Gender', 'Caesarean'], axis=1).copy()\n",
    "#filling the missing num values with mean\n",
    "for i in x_num.columns:\n",
    "    x_num[i] = x_num[i].fillna(x_num[i].mean())\n",
    "#filling the missing categorical value with the most frequent value   \n",
    "for i in x_cat.columns:\n",
    "    x_cat[i] = x_cat[i].fillna((x_cat.mode()).iloc[0])\n",
    "#filling the missing values with the mean\n",
    "\n",
    "y = y.fillna(y.mean())\n",
    "#Pipe line for Scalling the data and categorising the Categorical columns into numerical\n",
    "num_pipeline = Pipeline([\n",
    "    ('std_scaler',StandardScaler())\n",
    "])\n",
    "num_attribs = list(x_num.columns)\n",
    "cat_attribs = ['Smoke','Gender','Caesarean']\n",
    "full_pipeline = ColumnTransformer([\n",
    " (\"num\", num_pipeline, num_attribs),\n",
    " (\"cat\", OneHotEncoder(), cat_attribs),\n",
    " ])\n",
    "x_prepared = full_pipeline.fit_transform(X)\n",
    "x_prepared = pd.DataFrame(x_prepared)\n",
    "#spilting the fully prepared Data into training and testing data\n",
    "x_train,x_test,y_train,y_test = train_test_split(x_prepared,y,random_state=42)\n",
    "#Applying the Random forest Regressor for estimation of the Lung Tidal Volume\n",
    "model = RandomForestRegressor(n_estimators=1000, random_state=42)\n",
    "model.fit(x_train, y_train)\n",
    "#   Making predictions\n",
    "y_pred = model.predict(x_test)\n",
    "print(\"The predicted Lung Tidal Volume Values \",y_pred[0:5])\n",
    "print(f'Mean Squared Error: {mean_squared_error(y_test, y_pred)}')\n"
   ]
  }
 ],
 "metadata": {
  "kernelspec": {
   "display_name": "Python 3 (ipykernel)",
   "language": "python",
   "name": "python3"
  },
  "language_info": {
   "codemirror_mode": {
    "name": "ipython",
    "version": 3
   },
   "file_extension": ".py",
   "mimetype": "text/x-python",
   "name": "python",
   "nbconvert_exporter": "python",
   "pygments_lexer": "ipython3",
   "version": "3.12.0"
  }
 },
 "nbformat": 4,
 "nbformat_minor": 5
}
